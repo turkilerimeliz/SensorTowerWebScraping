{
 "cells": [
  {
   "cell_type": "code",
   "execution_count": 1,
   "id": "90cfc72d",
   "metadata": {},
   "outputs": [],
   "source": [
    "# import libraries\n",
    "from bs4 import BeautifulSoup\n",
    "import requests\n",
    "import time, os"
   ]
  },
  {
   "cell_type": "code",
   "execution_count": 2,
   "id": "1a8f6549",
   "metadata": {},
   "outputs": [],
   "source": [
    "from selenium import webdriver\n",
    "from selenium.webdriver.common.keys import Keys\n",
    "from selenium.webdriver.common.by import By\n",
    "import warnings\n",
    "warnings.filterwarnings(action='ignore')"
   ]
  },
  {
   "cell_type": "code",
   "execution_count": 3,
   "id": "d96eedbf",
   "metadata": {},
   "outputs": [],
   "source": [
    "# define path for driver\n",
    "chromedriver = \"/Macintosh HD/usr/local/bin\"\n",
    "os.environ[\"webdriver.chrome.driver\"] = chromedriver\n",
    "driver = webdriver.Chrome(chromedriver)"
   ]
  },
  {
   "cell_type": "code",
   "execution_count": 4,
   "id": "e2bf9fe9",
   "metadata": {},
   "outputs": [],
   "source": [
    "#define sensortower log-in link\n",
    "driver.get('https://app.sensortower.com/users/sign_in')"
   ]
  },
  {
   "cell_type": "code",
   "execution_count": 5,
   "id": "b172df8c",
   "metadata": {},
   "outputs": [],
   "source": [
    "# define username via XPATH\n",
    "username = driver.find_element(By.XPATH, '//*[@id=\"email\"]')"
   ]
  },
  {
   "cell_type": "code",
   "execution_count": 6,
   "id": "65784271",
   "metadata": {},
   "outputs": [],
   "source": [
    "# send key to the username section - replace your password with XXX@gmail.com\n",
    "username.send_keys(\"XXX@gmail.com\")"
   ]
  },
  {
   "cell_type": "code",
   "execution_count": 7,
   "id": "0b7e28ea",
   "metadata": {},
   "outputs": [],
   "source": [
    "# define password via XPATH \n",
    "password = driver.find_element(By.XPATH, '//*[@id=\"password\"]')"
   ]
  },
  {
   "cell_type": "code",
   "execution_count": 8,
   "id": "2de0216f",
   "metadata": {},
   "outputs": [],
   "source": [
    "# send key to the password section - replace your password with XXX\n",
    "time.sleep(2)\n",
    "password.send_keys(\"XXX\")"
   ]
  },
  {
   "cell_type": "code",
   "execution_count": 9,
   "id": "e4de8573",
   "metadata": {},
   "outputs": [],
   "source": [
    "# identify login button and click it\n",
    "driver.find_element(By.XPATH, '//*[@id=\"new_user\"]/input[2]').click()"
   ]
  },
  {
   "cell_type": "code",
   "execution_count": 10,
   "id": "4d237be1",
   "metadata": {},
   "outputs": [],
   "source": [
    "# define date filters - please refer the data range that you would like to filter the data\n",
    "start_date =\"2023-01-03\"\n",
    "end_date=\"2023-02-01\"\n",
    "\n",
    "# produce chart link\n",
    "top_chart_link = 'https://app.sensortower.com/top-charts?os=ios&country=US&app_id=389801252&adaptive_colors=off&device=iphone&start_date='+start_date+'&end_date='+end_date+'&tab_id='"
   ]
  },
  {
   "cell_type": "code",
   "execution_count": 11,
   "id": "4b92c700",
   "metadata": {},
   "outputs": [],
   "source": [
    "# open the top charts\n",
    "time.sleep(2)\n",
    "driver.get(top_chart_link)\n"
   ]
  },
  {
   "cell_type": "code",
   "execution_count": 12,
   "id": "d86f2e16",
   "metadata": {},
   "outputs": [],
   "source": [
    "# open category filter\n",
    "time.sleep(2)\n",
    "driver.find_element(By.XPATH, '//*[@id=\"react-root\"]/div/div/div[2]/div/div[3]/div').click()\n"
   ]
  },
  {
   "cell_type": "code",
   "execution_count": 14,
   "id": "968987b7",
   "metadata": {},
   "outputs": [],
   "source": [
    "# scroll down within the filter element until see the games option\n",
    "games_button = driver.find_element(By.XPATH, '//*[@id=\"menu-\"]/div[3]/ul/li[9]')\n",
    "driver.execute_script(\"arguments[0].scrollIntoView();\", games_button)"
   ]
  },
  {
   "cell_type": "code",
   "execution_count": 15,
   "id": "0ca1e54c",
   "metadata": {},
   "outputs": [],
   "source": [
    "games_button.click()"
   ]
  },
  {
   "cell_type": "code",
   "execution_count": 16,
   "id": "e02bfd34",
   "metadata": {},
   "outputs": [],
   "source": [
    "# scroll down until see the puzzle option\n",
    "activ_puzzle_button = driver.find_element(By.XPATH, '//*[@id=\"menu-\"]/div[3]/ul/li[24]')\n",
    "driver.execute_script(\"arguments[0].scrollIntoView();\", activ_puzzle_button)"
   ]
  },
  {
   "cell_type": "code",
   "execution_count": 17,
   "id": "4d69bd63",
   "metadata": {},
   "outputs": [],
   "source": [
    "# choose category as games/puzzle \n",
    "driver.find_element(By.XPATH, '//*[@id=\"menu-\"]/div[3]/ul/li[27]').click()"
   ]
  },
  {
   "cell_type": "code",
   "execution_count": 18,
   "id": "9d4e455d",
   "metadata": {},
   "outputs": [],
   "source": [
    "# close the session\n",
    "#driver.close()"
   ]
  },
  {
   "cell_type": "code",
   "execution_count": 19,
   "id": "111a7eff",
   "metadata": {},
   "outputs": [],
   "source": [
    "# quit from the driver\n",
    "#driver.quit()"
   ]
  }
 ],
 "metadata": {
  "kernelspec": {
   "display_name": "Python 3 (ipykernel)",
   "language": "python",
   "name": "python3"
  },
  "language_info": {
   "codemirror_mode": {
    "name": "ipython",
    "version": 3
   },
   "file_extension": ".py",
   "mimetype": "text/x-python",
   "name": "python",
   "nbconvert_exporter": "python",
   "pygments_lexer": "ipython3",
   "version": "3.9.13"
  }
 },
 "nbformat": 4,
 "nbformat_minor": 5
}
