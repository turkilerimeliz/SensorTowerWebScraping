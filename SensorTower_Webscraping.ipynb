{
 "cells": [
  {
   "cell_type": "code",
   "execution_count": 222,
   "id": "90cfc72d",
   "metadata": {},
   "outputs": [],
   "source": [
    "# import libraries\n",
    "from bs4 import BeautifulSoup\n",
    "import requests\n",
    "import time, os"
   ]
  },
  {
   "cell_type": "code",
   "execution_count": 223,
   "id": "1a8f6549",
   "metadata": {},
   "outputs": [],
   "source": [
    "from selenium import webdriver\n",
    "from selenium.webdriver.common.keys import Keys\n",
    "from selenium.webdriver.common.by import By\n",
    "import warnings\n",
    "warnings.filterwarnings(action='ignore')"
   ]
  },
  {
   "cell_type": "code",
   "execution_count": 224,
   "id": "d96eedbf",
   "metadata": {},
   "outputs": [],
   "source": [
    "# define path for driver\n",
    "chromedriver = \"/Macintosh HD/usr/local/bin\"\n",
    "os.environ[\"webdriver.chrome.driver\"] = chromedriver\n",
    "driver = webdriver.Chrome(chromedriver)"
   ]
  },
  {
   "cell_type": "code",
   "execution_count": 225,
   "id": "e2bf9fe9",
   "metadata": {},
   "outputs": [],
   "source": [
    "#define sensortower log-in link\n",
    "driver.get('https://app.sensortower.com/users/sign_in')"
   ]
  },
  {
   "cell_type": "code",
   "execution_count": 226,
   "id": "b172df8c",
   "metadata": {},
   "outputs": [],
   "source": [
    "# define username via XPATH\n",
    "username = driver.find_element(By.XPATH, '//*[@id=\"email\"]')"
   ]
  },
  {
   "cell_type": "code",
   "execution_count": 227,
   "id": "65784271",
   "metadata": {},
   "outputs": [],
   "source": [
    "# send key to the username section - replace your password with XXX@gmail.com\n",
    "username.send_keys(\"XXX@gmail.com\")"
   ]
  },
  {
   "cell_type": "code",
   "execution_count": 228,
   "id": "0b7e28ea",
   "metadata": {},
   "outputs": [],
   "source": [
    "# define password via XPATH \n",
    "password = driver.find_element(By.XPATH, '//*[@id=\"password\"]')"
   ]
  },
  {
   "cell_type": "code",
   "execution_count": 229,
   "id": "2de0216f",
   "metadata": {},
   "outputs": [],
   "source": [
    "# send key to the password section - replace your password with XXX\n",
    "password.send_keys(\"XXX\")"
   ]
  },
  {
   "cell_type": "code",
   "execution_count": 230,
   "id": "e4de8573",
   "metadata": {},
   "outputs": [],
   "source": [
    "# identify login button and click it\n",
    "driver.find_element(By.XPATH, '//*[@id=\"new_user\"]/input[2]').click()"
   ]
  },
  {
   "cell_type": "code",
   "execution_count": 231,
   "id": "4d237be1",
   "metadata": {},
   "outputs": [],
   "source": [
    "# define date filters - please refer the data range that you would like to filter the data\n",
    "start_date =\"2023-01-03\"\n",
    "end_date=\"2023-02-01\"\n",
    "\n",
    "# produce chart link\n",
    "top_chart_link = 'https://app.sensortower.com/top-charts?os=ios&country=US&app_id=389801252&adaptive_colors=off&device=iphone&start_date='+start_date+'&end_date='+end_date+'&tab_id='"
   ]
  },
  {
   "cell_type": "code",
   "execution_count": 232,
   "id": "4b92c700",
   "metadata": {},
   "outputs": [],
   "source": [
    "# open the top charts\n",
    "time.sleep(2)\n",
    "driver.get(top_chart_link)\n"
   ]
  },
  {
   "cell_type": "code",
   "execution_count": 233,
   "id": "d86f2e16",
   "metadata": {},
   "outputs": [],
   "source": [
    "# open category filter\n",
    "time.sleep(2)\n",
    "driver.find_element(By.XPATH, '//*[@id=\"react-root\"]/div/div/div[2]/div/div[3]/div').click()\n"
   ]
  },
  {
   "cell_type": "code",
   "execution_count": 234,
   "id": "5e120923",
   "metadata": {},
   "outputs": [],
   "source": [
    "# select \"xx\" as category\n",
    "driver.find_element(By.XPATH, '//*[@id=\"menu-\"]/div[3]/ul/li[5]').click()\n"
   ]
  },
  {
   "cell_type": "code",
   "execution_count": 19,
   "id": "9d4e455d",
   "metadata": {},
   "outputs": [],
   "source": [
    "# close the session\n",
    "driver.close()"
   ]
  },
  {
   "cell_type": "code",
   "execution_count": 20,
   "id": "111a7eff",
   "metadata": {},
   "outputs": [],
   "source": [
    "# quit from the driver\n",
    "driver.quit()"
   ]
  }
 ],
 "metadata": {
  "kernelspec": {
   "display_name": "Python 3 (ipykernel)",
   "language": "python",
   "name": "python3"
  },
  "language_info": {
   "codemirror_mode": {
    "name": "ipython",
    "version": 3
   },
   "file_extension": ".py",
   "mimetype": "text/x-python",
   "name": "python",
   "nbconvert_exporter": "python",
   "pygments_lexer": "ipython3",
   "version": "3.9.13"
  }
 },
 "nbformat": 4,
 "nbformat_minor": 5
}
